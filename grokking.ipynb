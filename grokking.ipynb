{
  "cells": [
    {
      "cell_type": "markdown",
      "metadata": {
        "id": "view-in-github",
        "colab_type": "text"
      },
      "source": [
        "<a href=\"https://colab.research.google.com/github/CalculatedContent/grokking/blob/main/grokking.ipynb\" target=\"_parent\"><img src=\"https://colab.research.google.com/assets/colab-badge.svg\" alt=\"Open In Colab\"/></a>"
      ]
    },
    {
      "cell_type": "markdown",
      "metadata": {
        "id": "sRBfcL9C8OE-"
      },
      "source": [

        "https://github.com/teddykoker/grokking\n",
        "\n",
        "\n",
        "---\n",
        "\n"
      ]
    },
    {
      "cell_type": "code",
      "execution_count": null,
      "metadata": {
        "colab": {
          "base_uri": "https://localhost:8080/"
        },
        "id": "D9jt2fLz8OV4",
        "outputId": "05590eed-7005-43d3-a9d0-a614caa00b6b"
      },
      "outputs": [
        {
          "output_type": "stream",
          "name": "stdout",
          "text": [
            "Cloning into 'grokking'...\n",
            "remote: Enumerating objects: 33, done.\u001b[K\n",
            "remote: Counting objects: 100% (24/24), done.\u001b[K\n",
            "remote: Compressing objects: 100% (16/16), done.\u001b[K\n",
            "remote: Total 33 (delta 14), reused 18 (delta 8), pack-reused 9\u001b[K\n",
            "Receiving objects: 100% (33/33), 105.91 KiB | 26.48 MiB/s, done.\n",
            "Resolving deltas: 100% (14/14), done.\n"
          ]
        }
      ],
      "source": [
        "!git clone https://github.com/CalculatedContent/grokking.git"
      ]
    },
    {
      "cell_type": "code",
      "execution_count": null,
      "metadata": {
        "colab": {
          "base_uri": "https://localhost:8080/"
        },
        "id": "KZ9TEZce8Q17",
        "outputId": "d192260c-d4fd-4c98-ce2d-6531a9beed9e"
      },
      "outputs": [
        {
          "output_type": "stream",
          "name": "stdout",
          "text": [
            "grokking  sample_data\n"
          ]
        }
      ],
      "source": [
        "!ls"
      ]
    },
    {
      "cell_type": "code",
      "execution_count": null,
      "metadata": {
        "colab": {
          "base_uri": "https://localhost:8080/"
        },
        "id": "XnOA1Q2y8VwF",
        "outputId": "9dfc171b-cdc8-4728-e295-1a0dec93b019"
      },
      "outputs": [
        {
          "output_type": "stream",
          "name": "stdout",
          "text": [
            "/content/grokking\n"
          ]
        }
      ],
      "source": [
        "%cd grokking"
      ]
    },
    {
      "cell_type": "code",
      "execution_count": null,
      "metadata": {
        "colab": {
          "base_uri": "https://localhost:8080/"
        },
        "id": "9dtZGkRt8pZQ",
        "outputId": "5cf28b75-65d2-451f-8d35-d6b56ef44723"
      },
      "outputs": [
        {
          "output_type": "stream",
          "name": "stdout",
          "text": [
            "  6% 1945/30000 [03:05<41:37, 11.23it/s]"
          ]
        }
      ],
      "source": [
        "!python train.py"
      ]
    },
    {
      "cell_type": "code",
      "execution_count": null,
      "metadata": {
        "id": "Y9-YfnxET2Hj"
      },
      "outputs": [],
      "source": [
        "from IPython.display import Image, display\n",
        "\n",
        "# Display the first image\n",
        "display(Image(filename='figures/acc.png'))\n",
        "\n",
        "# Display the second image\n",
        "display(Image(filename='figures/loss.png'))"
      ]
    },
    {
      "cell_type": "code",
      "source": [
        "!ls"
      ],
      "metadata": {
        "id": "5c-VjllxCVyX"
      },
      "execution_count": null,
      "outputs": []
    },
    {
      "cell_type": "code",
      "execution_count": null,
      "metadata": {
        "id": "UouVOsMk813u"
      },
      "outputs": [],
      "source": [
        "#!pip -y uninstall weightwatcher\n",
        "!python3 -m pip install --index-url https://test.pypi.org/simple/ --extra-index-url https://pypi.org/simple weightwatcher\n"
      ]
    },
    {
      "cell_type": "code",
      "execution_count": null,
      "metadata": {
        "id": "dun7oQMfTpnb"
      },
      "outputs": [],
      "source": [
        "import weightwatcher as ww\n",
        "import torch\n",
        "\n",
        "model = torch.load(\"pytorch_model.last.bin\")\n",
        "\n",
        "watcher = ww.WeightWatcher(model=model)\n",
        "watcher.describe()"
      ]
    },
    {
      "cell_type": "code",
      "execution_count": null,
      "metadata": {
        "id": "vS0vsn5OOYzz"
      },
      "outputs": [],
      "source": [
        "details = watcher.analyze(plot=True, vectors=True)"
      ]
    },
    {
      "cell_type": "code",
      "execution_count": null,
      "metadata": {
        "id": "LS-iBrhHObD4"
      },
      "outputs": [],
      "source": [
        "details.alpha.mean()\n",
        "details_last = details"
      ]
    },
    {
      "cell_type": "code",
      "execution_count": null,
      "metadata": {
        "id": "LZMiCncdOvqA"
      },
      "outputs": [],
      "source": [
        "import weightwatcher as ww\n",
        "import torch\n",
        "\n",
        "model = torch.load('pytorch_model.19990.bin)')\n",
        "\n",
        "watcher = ww.WeightWatcher(model=model)\n",
        "watcher.describe()"
      ]
    },
    {
      "cell_type": "code",
      "execution_count": null,
      "metadata": {
        "id": "13-qm5DHWZ57"
      },
      "outputs": [],
      "source": [
        "!ls"
      ]
    },
    {
      "cell_type": "code",
      "execution_count": null,
      "metadata": {
        "id": "v9G8IHpXWhWX"
      },
      "outputs": [],
      "source": [
        "details_20k = watcher.analyze(plot=True, vectors=True)"
      ]
    },
    {
      "cell_type": "code",
      "execution_count": null,
      "metadata": {
        "id": "veiZ2WatWj9I"
      },
      "outputs": [],
      "source": [
        "details_20k.alpha.mean()"
      ]
    },
    {
      "cell_type": "code",
      "execution_count": null,
      "metadata": {
        "id": "GKHwYRFybG-q"
      },
      "outputs": [],
      "source": [
        "details_20k.columns"
      ]
    },
    {
      "cell_type": "code",
      "source": [
        "details_20k['alpha'].mean(), details_last['alpha'].mean()"
      ],
      "metadata": {
        "id": "syQEK76pFz2r"
      },
      "execution_count": null,
      "outputs": []
    },
    {
      "cell_type": "code",
      "source": [
        "details_20k"
      ],
      "metadata": {
        "id": "94qqWOMwF51v"
      },
      "execution_count": null,
      "outputs": []
    },
    {
      "cell_type": "code",
      "source": [],
      "metadata": {
        "id": "lwooOF7vGa0g"
      },
      "execution_count": null,
      "outputs": []
    }
  ],
  "metadata": {
    "accelerator": "GPU",
    "colab": {
      "machine_shape": "hm",
      "provenance": [],
      "gpuType": "A100",
      "authorship_tag": "ABX9TyM1daCJ31vS45da7UrG5UMR",
      "include_colab_link": true
    },
    "kernelspec": {
      "display_name": "Python 3",
      "name": "python3"
    },
    "language_info": {
      "name": "python"
    }
  },
  "nbformat": 4,
  "nbformat_minor": 0
}
